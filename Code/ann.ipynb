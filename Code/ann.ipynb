{
  "nbformat": 4,
  "nbformat_minor": 0,
  "metadata": {
    "colab": {
      "name": "Untitled3.ipynb",
      "provenance": [],
      "collapsed_sections": [],
      "authorship_tag": "ABX9TyOshmQfSnWJnke1pRYMCO4N",
      "include_colab_link": true
    },
    "kernelspec": {
      "name": "python3",
      "display_name": "Python 3"
    }
  },
  "cells": [
    {
      "cell_type": "markdown",
      "metadata": {
        "id": "view-in-github",
        "colab_type": "text"
      },
      "source": [
        "<a href=\"https://colab.research.google.com/github/Kassa-Hun/Deep-Learning/blob/main/Code/ann.ipynb\" target=\"_parent\"><img src=\"https://colab.research.google.com/assets/colab-badge.svg\" alt=\"Open In Colab\"/></a>"
      ]
    },
    {
      "cell_type": "code",
      "metadata": {
        "id": "V0Fxfypt7hla"
      },
      "source": [
        "#Import libraries\r\n",
        "import numpy as np\r\n",
        "import pandas as pd\r\n",
        "import seaborn as sns\r\n",
        "import matplotlib.pyplot as plt\r\n",
        "import tensorflow as tf\r\n",
        "from keras.models import Sequential\r\n",
        "from keras.layers import Dense\r\n",
        "from sklearn.preprocessing import LabelEncoder, OneHotEncoder, StandardScaler\r\n",
        "from sklearn.model_selection import train_test_split,cross_val_score, GridSearchCV\r\n",
        "from sklearn.compose import ColumnTransformer\r\n",
        "from sklearn.metrics import confusion_matrix\r\n",
        "from keras.wrappers.scikit_learn import KerasClassifier\r\n"
      ],
      "execution_count": 83,
      "outputs": []
    },
    {
      "cell_type": "code",
      "metadata": {
        "id": "MQtEZxKC7pya"
      },
      "source": [
        "# Load the data\r\n",
        "dataset_url=\"https://raw.githubusercontent.com/Kassa-Hun/Deep-Learning/main/Dataset/Churn_Modelling.csv\"\r\n",
        "data=pd.read_csv(dataset_url)\r\n",
        "\r\n",
        "#Features selection\r\n",
        "X=data.iloc[:,3:-1].values  #Independent variables\r\n",
        "y=data.iloc[:,-1].values    #Dependent variables\r\n",
        "\r\n",
        "#Encoding categorical features-Geography and Gender columns\r\n",
        "labelencoder=LabelEncoder()\r\n",
        "X[:,2]=leablencoder.fit_transform(X[:,2])\r\n",
        "\r\n",
        "columntransform=ColumnTransformer(transformers=[('encoder',OneHotEncoder(),[1])],remainder=\"passthrough\")\r\n",
        "X=np.array(columntransform.fit_transform(X))\r\n",
        "\r\n",
        "# Split the dataset as training and test data\r\n",
        "X_train,X_test,y_train,y_test=train_test_split(X,y,test_size=0.2, random_state=0)\r\n",
        "\r\n",
        "#Feature scaling\r\n",
        "sc=StandardScaler()\r\n",
        "X_train=sc.fit_transform(X_train)\r\n",
        "X_test=sc.fit_transform(X_test)\r\n",
        "\r\n"
      ],
      "execution_count": 76,
      "outputs": []
    },
    {
      "cell_type": "code",
      "metadata": {
        "colab": {
          "base_uri": "https://localhost:8080/"
        },
        "id": "ob-99r3zvV6S",
        "outputId": "1eca92eb-bc57-4528-e7e3-399798879a98"
      },
      "source": [
        "#Initialize ANN\r\n",
        "classifier=Sequential()\r\n",
        "#Add input and initial hidden layers\r\n",
        "classifier.add(Dense(units=6,activation='relu',kernel_initializer='uniform',input_dim=12))\r\n",
        "#Adding the second hidden layer\r\n",
        "classifier.add(Dense(units=6,activation='relu',kernel_initializer='uniform'))\r\n",
        "#Adding the output layer\r\n",
        "classifier.add(Dense(units=1,activation='sigmoid',kernel_initializer='uniform'))\r\n",
        "\r\n",
        "#Compiling ANN\r\n",
        "classifier.compile(optimizer='adam',loss='binary_crossentropy',metrics=['accuracy'])\r\n",
        "\r\n",
        "#Training the ANN on the Training dataset\r\n",
        "classifier.fit(X_train, y_train, batch_size=10,epochs=100)\r\n",
        "\r\n",
        "#Predicting the Test set\r\n",
        "y_preds=classifier.predict(X_test)\r\n",
        "y_preds=(y_preds > 0.5)\r\n",
        "y_preds\r\n",
        "\r\n",
        "\"\"\"\r\n",
        "Homework:\r\n",
        "Use our ANN model to predict if the customer with the following informations will leave the bank: \r\n",
        "Geography: France\r\n",
        "Credit Score: 600\r\n",
        "Gender: Male\r\n",
        "Age: 40 years old\r\n",
        "Tenure: 3 years\r\n",
        "Balance: $ 60000\r\n",
        "Number of Products: 2\r\n",
        "Does this customer have a credit card? Yes\r\n",
        "Is this customer an Active Member: Yes\r\n",
        "Estimated Salary: $ 50000\r\n",
        "So, should we say goodbye to that customer?\r\n",
        "\r\n",
        "Solution:\r\n",
        "\"\"\"\r\n",
        "\r\n",
        "print (classifier.predict(sc.fit_transform([[1,0,0,600,1,40,3,60000,2,1,1,50000]]))>0.5)\r\n"
      ],
      "execution_count": 78,
      "outputs": [
        {
          "output_type": "stream",
          "text": [
            "Epoch 1/100\n",
            "800/800 [==============================] - 1s 989us/step - loss: 0.5594 - accuracy: 0.8005\n",
            "Epoch 2/100\n",
            "800/800 [==============================] - 1s 1ms/step - loss: 0.4296 - accuracy: 0.7990\n",
            "Epoch 3/100\n",
            "800/800 [==============================] - 1s 1ms/step - loss: 0.4238 - accuracy: 0.7933\n",
            "Epoch 4/100\n",
            "800/800 [==============================] - 1s 1ms/step - loss: 0.4174 - accuracy: 0.8218\n",
            "Epoch 5/100\n",
            "800/800 [==============================] - 1s 1ms/step - loss: 0.4269 - accuracy: 0.8214\n",
            "Epoch 6/100\n",
            "800/800 [==============================] - 1s 1ms/step - loss: 0.4162 - accuracy: 0.8332\n",
            "Epoch 7/100\n",
            "800/800 [==============================] - 1s 1ms/step - loss: 0.4109 - accuracy: 0.8352\n",
            "Epoch 8/100\n",
            "800/800 [==============================] - 1s 1ms/step - loss: 0.4004 - accuracy: 0.8367\n",
            "Epoch 9/100\n",
            "800/800 [==============================] - 1s 999us/step - loss: 0.4162 - accuracy: 0.8279\n",
            "Epoch 10/100\n",
            "800/800 [==============================] - 1s 1ms/step - loss: 0.4116 - accuracy: 0.8309\n",
            "Epoch 11/100\n",
            "800/800 [==============================] - 1s 1ms/step - loss: 0.4006 - accuracy: 0.8397\n",
            "Epoch 12/100\n",
            "800/800 [==============================] - 1s 1ms/step - loss: 0.4016 - accuracy: 0.8395\n",
            "Epoch 13/100\n",
            "800/800 [==============================] - 1s 1ms/step - loss: 0.4125 - accuracy: 0.8313\n",
            "Epoch 14/100\n",
            "800/800 [==============================] - 1s 1ms/step - loss: 0.4012 - accuracy: 0.8374\n",
            "Epoch 15/100\n",
            "800/800 [==============================] - 1s 1ms/step - loss: 0.4083 - accuracy: 0.8369\n",
            "Epoch 16/100\n",
            "800/800 [==============================] - 1s 1ms/step - loss: 0.4044 - accuracy: 0.8318\n",
            "Epoch 17/100\n",
            "800/800 [==============================] - 1s 1ms/step - loss: 0.4131 - accuracy: 0.8314\n",
            "Epoch 18/100\n",
            "800/800 [==============================] - 1s 1ms/step - loss: 0.4144 - accuracy: 0.8300\n",
            "Epoch 19/100\n",
            "800/800 [==============================] - 1s 1ms/step - loss: 0.4123 - accuracy: 0.8327\n",
            "Epoch 20/100\n",
            "800/800 [==============================] - 1s 1ms/step - loss: 0.3983 - accuracy: 0.8354\n",
            "Epoch 21/100\n",
            "800/800 [==============================] - 1s 980us/step - loss: 0.4038 - accuracy: 0.8330\n",
            "Epoch 22/100\n",
            "800/800 [==============================] - 1s 1ms/step - loss: 0.4063 - accuracy: 0.8330\n",
            "Epoch 23/100\n",
            "800/800 [==============================] - 1s 1ms/step - loss: 0.4006 - accuracy: 0.8338\n",
            "Epoch 24/100\n",
            "800/800 [==============================] - 1s 1ms/step - loss: 0.4026 - accuracy: 0.8310\n",
            "Epoch 25/100\n",
            "800/800 [==============================] - 1s 1ms/step - loss: 0.3998 - accuracy: 0.8356\n",
            "Epoch 26/100\n",
            "800/800 [==============================] - 1s 1ms/step - loss: 0.3915 - accuracy: 0.8400\n",
            "Epoch 27/100\n",
            "800/800 [==============================] - 1s 1ms/step - loss: 0.4128 - accuracy: 0.8321\n",
            "Epoch 28/100\n",
            "800/800 [==============================] - 1s 1ms/step - loss: 0.4024 - accuracy: 0.8300\n",
            "Epoch 29/100\n",
            "800/800 [==============================] - 1s 1ms/step - loss: 0.4013 - accuracy: 0.8288\n",
            "Epoch 30/100\n",
            "800/800 [==============================] - 1s 1ms/step - loss: 0.3990 - accuracy: 0.8337\n",
            "Epoch 31/100\n",
            "800/800 [==============================] - 1s 1ms/step - loss: 0.4023 - accuracy: 0.8349\n",
            "Epoch 32/100\n",
            "800/800 [==============================] - 1s 1ms/step - loss: 0.4029 - accuracy: 0.8374\n",
            "Epoch 33/100\n",
            "800/800 [==============================] - 1s 1ms/step - loss: 0.3991 - accuracy: 0.8358\n",
            "Epoch 34/100\n",
            "800/800 [==============================] - 1s 1ms/step - loss: 0.4018 - accuracy: 0.8314\n",
            "Epoch 35/100\n",
            "800/800 [==============================] - 1s 1ms/step - loss: 0.3941 - accuracy: 0.8376\n",
            "Epoch 36/100\n",
            "800/800 [==============================] - 1s 1ms/step - loss: 0.3965 - accuracy: 0.8369\n",
            "Epoch 37/100\n",
            "800/800 [==============================] - 1s 1ms/step - loss: 0.4066 - accuracy: 0.8340\n",
            "Epoch 38/100\n",
            "800/800 [==============================] - 1s 1ms/step - loss: 0.3928 - accuracy: 0.8385\n",
            "Epoch 39/100\n",
            "800/800 [==============================] - 1s 1ms/step - loss: 0.3994 - accuracy: 0.8320\n",
            "Epoch 40/100\n",
            "800/800 [==============================] - 1s 1ms/step - loss: 0.3966 - accuracy: 0.8388\n",
            "Epoch 41/100\n",
            "800/800 [==============================] - 1s 1ms/step - loss: 0.3995 - accuracy: 0.8350\n",
            "Epoch 42/100\n",
            "800/800 [==============================] - 1s 1ms/step - loss: 0.4096 - accuracy: 0.8328\n",
            "Epoch 43/100\n",
            "800/800 [==============================] - 1s 1ms/step - loss: 0.3948 - accuracy: 0.8385\n",
            "Epoch 44/100\n",
            "800/800 [==============================] - 1s 1ms/step - loss: 0.4054 - accuracy: 0.8287\n",
            "Epoch 45/100\n",
            "800/800 [==============================] - 1s 1ms/step - loss: 0.3983 - accuracy: 0.8365\n",
            "Epoch 46/100\n",
            "800/800 [==============================] - 1s 1ms/step - loss: 0.3985 - accuracy: 0.8377\n",
            "Epoch 47/100\n",
            "800/800 [==============================] - 1s 1ms/step - loss: 0.4122 - accuracy: 0.8323\n",
            "Epoch 48/100\n",
            "800/800 [==============================] - 1s 1ms/step - loss: 0.3994 - accuracy: 0.8353\n",
            "Epoch 49/100\n",
            "800/800 [==============================] - 1s 1ms/step - loss: 0.4064 - accuracy: 0.8331\n",
            "Epoch 50/100\n",
            "800/800 [==============================] - 1s 1ms/step - loss: 0.4119 - accuracy: 0.8287\n",
            "Epoch 51/100\n",
            "800/800 [==============================] - 1s 1ms/step - loss: 0.3964 - accuracy: 0.8365\n",
            "Epoch 52/100\n",
            "800/800 [==============================] - 1s 1ms/step - loss: 0.3942 - accuracy: 0.8411\n",
            "Epoch 53/100\n",
            "800/800 [==============================] - 1s 1ms/step - loss: 0.3995 - accuracy: 0.8341\n",
            "Epoch 54/100\n",
            "800/800 [==============================] - 1s 1ms/step - loss: 0.4054 - accuracy: 0.8296\n",
            "Epoch 55/100\n",
            "800/800 [==============================] - 1s 1ms/step - loss: 0.3929 - accuracy: 0.8416\n",
            "Epoch 56/100\n",
            "800/800 [==============================] - 1s 1ms/step - loss: 0.3834 - accuracy: 0.8398\n",
            "Epoch 57/100\n",
            "800/800 [==============================] - 1s 1ms/step - loss: 0.4014 - accuracy: 0.8402\n",
            "Epoch 58/100\n",
            "800/800 [==============================] - 1s 1ms/step - loss: 0.4077 - accuracy: 0.8312\n",
            "Epoch 59/100\n",
            "800/800 [==============================] - 1s 1ms/step - loss: 0.3916 - accuracy: 0.8435\n",
            "Epoch 60/100\n",
            "800/800 [==============================] - 1s 1ms/step - loss: 0.3993 - accuracy: 0.8386\n",
            "Epoch 61/100\n",
            "800/800 [==============================] - 1s 1ms/step - loss: 0.3987 - accuracy: 0.8382\n",
            "Epoch 62/100\n",
            "800/800 [==============================] - 1s 1ms/step - loss: 0.3946 - accuracy: 0.8380\n",
            "Epoch 63/100\n",
            "800/800 [==============================] - 1s 1ms/step - loss: 0.3975 - accuracy: 0.8371\n",
            "Epoch 64/100\n",
            "800/800 [==============================] - 1s 1ms/step - loss: 0.4105 - accuracy: 0.8287\n",
            "Epoch 65/100\n",
            "800/800 [==============================] - 1s 1ms/step - loss: 0.3972 - accuracy: 0.8366\n",
            "Epoch 66/100\n",
            "800/800 [==============================] - 1s 1ms/step - loss: 0.3883 - accuracy: 0.8465\n",
            "Epoch 67/100\n",
            "800/800 [==============================] - 1s 1ms/step - loss: 0.4003 - accuracy: 0.8365\n",
            "Epoch 68/100\n",
            "800/800 [==============================] - 1s 1ms/step - loss: 0.4072 - accuracy: 0.8296\n",
            "Epoch 69/100\n",
            "800/800 [==============================] - 1s 1ms/step - loss: 0.3921 - accuracy: 0.8403\n",
            "Epoch 70/100\n",
            "800/800 [==============================] - 1s 1ms/step - loss: 0.3998 - accuracy: 0.8342\n",
            "Epoch 71/100\n",
            "800/800 [==============================] - 1s 1ms/step - loss: 0.3970 - accuracy: 0.8411\n",
            "Epoch 72/100\n",
            "800/800 [==============================] - 1s 1ms/step - loss: 0.4080 - accuracy: 0.8347\n",
            "Epoch 73/100\n",
            "800/800 [==============================] - 1s 1ms/step - loss: 0.4048 - accuracy: 0.8328\n",
            "Epoch 74/100\n",
            "800/800 [==============================] - 1s 1ms/step - loss: 0.3952 - accuracy: 0.8391\n",
            "Epoch 75/100\n",
            "800/800 [==============================] - 1s 1ms/step - loss: 0.3992 - accuracy: 0.8369\n",
            "Epoch 76/100\n",
            "800/800 [==============================] - 1s 1ms/step - loss: 0.4033 - accuracy: 0.8328\n",
            "Epoch 77/100\n",
            "800/800 [==============================] - 1s 1ms/step - loss: 0.3941 - accuracy: 0.8347\n",
            "Epoch 78/100\n",
            "800/800 [==============================] - 1s 1ms/step - loss: 0.3960 - accuracy: 0.8367\n",
            "Epoch 79/100\n",
            "800/800 [==============================] - 1s 1ms/step - loss: 0.3949 - accuracy: 0.8374\n",
            "Epoch 80/100\n",
            "800/800 [==============================] - 1s 1ms/step - loss: 0.4055 - accuracy: 0.8344\n",
            "Epoch 81/100\n",
            "800/800 [==============================] - 1s 1ms/step - loss: 0.4029 - accuracy: 0.8277\n",
            "Epoch 82/100\n",
            "800/800 [==============================] - 1s 1ms/step - loss: 0.3897 - accuracy: 0.8400\n",
            "Epoch 83/100\n",
            "800/800 [==============================] - 1s 1ms/step - loss: 0.3997 - accuracy: 0.8355\n",
            "Epoch 84/100\n",
            "800/800 [==============================] - 1s 1ms/step - loss: 0.3884 - accuracy: 0.8413\n",
            "Epoch 85/100\n",
            "800/800 [==============================] - 1s 1ms/step - loss: 0.3880 - accuracy: 0.8391\n",
            "Epoch 86/100\n",
            "800/800 [==============================] - 1s 1ms/step - loss: 0.3925 - accuracy: 0.8384\n",
            "Epoch 87/100\n",
            "800/800 [==============================] - 1s 1ms/step - loss: 0.4018 - accuracy: 0.8310\n",
            "Epoch 88/100\n",
            "800/800 [==============================] - 1s 1ms/step - loss: 0.3888 - accuracy: 0.8397\n",
            "Epoch 89/100\n",
            "800/800 [==============================] - 1s 1ms/step - loss: 0.4069 - accuracy: 0.8320\n",
            "Epoch 90/100\n",
            "800/800 [==============================] - 1s 1ms/step - loss: 0.3939 - accuracy: 0.8404\n",
            "Epoch 91/100\n",
            "800/800 [==============================] - 1s 1ms/step - loss: 0.4029 - accuracy: 0.8360\n",
            "Epoch 92/100\n",
            "800/800 [==============================] - 1s 1ms/step - loss: 0.4023 - accuracy: 0.8330\n",
            "Epoch 93/100\n",
            "800/800 [==============================] - 1s 1ms/step - loss: 0.4006 - accuracy: 0.8391\n",
            "Epoch 94/100\n",
            "800/800 [==============================] - 1s 1ms/step - loss: 0.3978 - accuracy: 0.8363\n",
            "Epoch 95/100\n",
            "800/800 [==============================] - 1s 1ms/step - loss: 0.4011 - accuracy: 0.8348\n",
            "Epoch 96/100\n",
            "800/800 [==============================] - 1s 1ms/step - loss: 0.4008 - accuracy: 0.8323\n",
            "Epoch 97/100\n",
            "800/800 [==============================] - 1s 1ms/step - loss: 0.4008 - accuracy: 0.8327\n",
            "Epoch 98/100\n",
            "800/800 [==============================] - 1s 1ms/step - loss: 0.3999 - accuracy: 0.8380\n",
            "Epoch 99/100\n",
            "800/800 [==============================] - 1s 1ms/step - loss: 0.4011 - accuracy: 0.8328\n",
            "Epoch 100/100\n",
            "800/800 [==============================] - 1s 1ms/step - loss: 0.4018 - accuracy: 0.8394\n",
            "[[False]]\n"
          ],
          "name": "stdout"
        }
      ]
    },
    {
      "cell_type": "code",
      "metadata": {
        "colab": {
          "base_uri": "https://localhost:8080/",
          "height": 408
        },
        "id": "Of-iE80Qvhiv",
        "outputId": "92f11e71-13b7-41dc-cde1-d843506b5853"
      },
      "source": [
        "#Making the Confusion Matrix\r\n",
        "fig,ax=plt.subplots(figsize=(10,6))\r\n",
        "sns.set(font_scale=1.6)\r\n",
        "confm=confusion_matrix(y_test,y_preds)\r\n",
        "sns.heatmap(confm,annot=True,fmt='d');\r\n",
        "plt.xlabel(\"Actual\")\r\n",
        "plt.ylabel(\"Predicted\")\r\n",
        "plt.show();\r\n"
      ],
      "execution_count": 79,
      "outputs": [
        {
          "output_type": "display_data",
          "data": {
            "image/png": "[encoded data removed]",
            "text/plain": [
              "<Figure size 720x432 with 2 Axes>"
            ]
          },
          "metadata": {
            "tags": []
          }
        }
      ]
    },
    {
      "cell_type": "code",
      "metadata": {
        "colab": {
          "base_uri": "https://localhost:8080/"
        },
        "id": "CKtI37TPPIXg",
        "outputId": "62f3da39-78b6-4ad7-a5b8-384949b3d91b"
      },
      "source": [
        "def build_classifier(optimizer):\r\n",
        "  ann=Sequential()\r\n",
        "  ann.add(Dense(units=6,activation='relu', kernel_initializer='uniform',input_dim=12))\r\n",
        "  ann.add(Dense(units=6,activation='relu', kernel_initializer='uniform'))\r\n",
        "  ann.add(Dense(units=1,activation='sigmoid',kernel_initializer='uniform'))\r\n",
        "  ann.compile(optimizer='adam',loss='binary_crossentropy',metrics=['accuracy'])\r\n",
        "  return ann\r\n",
        "ann=KerasClassifier(build_fn=build_classifier)\r\n",
        "parameters={\r\n",
        "    'batch_size':[25,32],\r\n",
        "    'nb_epoch':[100,500],\r\n",
        "    'optimizer':['adam','rmsprop']\r\n",
        "}\r\n",
        "\r\n",
        "grid_search=GridSearchCV(estimator=ann,param_grid=parameters,cv=10,n_jobs=-1,verbose=2)\r\n",
        "grid_search.fit(X_train,y_train)\r\n",
        "\r\n",
        "\r\n"
      ],
      "execution_count": 85,
      "outputs": [
        {
          "output_type": "stream",
          "text": [
            "Fitting 10 folds for each of 8 candidates, totalling 80 fits\n"
          ],
          "name": "stdout"
        },
        {
          "output_type": "stream",
          "text": [
            "[Parallel(n_jobs=-1)]: Using backend LokyBackend with 2 concurrent workers.\n",
            "[Parallel(n_jobs=-1)]: Done  37 tasks      | elapsed:   29.8s\n",
            "[Parallel(n_jobs=-1)]: Done  80 out of  80 | elapsed:   57.5s finished\n"
          ],
          "name": "stderr"
        },
        {
          "output_type": "stream",
          "text": [
            "320/320 [==============================] - 1s 1ms/step - loss: 0.6372 - accuracy: 0.7863\n"
          ],
          "name": "stdout"
        },
        {
          "output_type": "execute_result",
          "data": {
            "text/plain": [
              "GridSearchCV(cv=10, error_score=nan,\n",
              "             estimator=<tensorflow.python.keras.wrappers.scikit_learn.KerasClassifier object at 0x7f3441d45350>,\n",
              "             iid='deprecated', n_jobs=-1,\n",
              "             param_grid={'batch_size': [25, 32], 'nb_epoch': [100, 500],\n",
              "                         'optimizer': ['adam', 'rmsprop']},\n",
              "             pre_dispatch='2*n_jobs', refit=True, return_train_score=False,\n",
              "             scoring=None, verbose=2)"
            ]
          },
          "metadata": {
            "tags": []
          },
          "execution_count": 85
        }
      ]
    },
    {
      "cell_type": "code",
      "metadata": {
        "colab": {
          "base_uri": "https://localhost:8080/"
        },
        "id": "RJakJy6xXp1t",
        "outputId": "9e3a8399-d11e-4440-e684-310ec1f9565b"
      },
      "source": [
        "grid_search.best_params_"
      ],
      "execution_count": 86,
      "outputs": [
        {
          "output_type": "execute_result",
          "data": {
            "text/plain": [
              "{'batch_size': 25, 'nb_epoch': 100, 'optimizer': 'adam'}"
            ]
          },
          "metadata": {
            "tags": []
          },
          "execution_count": 86
        }
      ]
    },
    {
      "cell_type": "code",
      "metadata": {
        "colab": {
          "base_uri": "https://localhost:8080/"
        },
        "id": "YFpjAUQv0JZ5",
        "outputId": "166e07f2-4ef1-48ed-e671-981952af31cf"
      },
      "source": [
        "grid_search.best_score_"
      ],
      "execution_count": 87,
      "outputs": [
        {
          "output_type": "execute_result",
          "data": {
            "text/plain": [
              "0.7960000097751617"
            ]
          },
          "metadata": {
            "tags": []
          },
          "execution_count": 87
        }
      ]
    },
    {
      "cell_type": "code",
      "metadata": {
        "id": "OPIRLkq-0N8f"
      },
      "source": [
        ""
      ],
      "execution_count": 88,
      "outputs": []
    }
  ]
}